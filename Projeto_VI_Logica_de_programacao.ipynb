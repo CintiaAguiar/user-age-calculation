{
  "nbformat": 4,
  "nbformat_minor": 0,
  "metadata": {
    "colab": {
      "provenance": [],
      "authorship_tag": "ABX9TyOfZyhf0QppvDPFTDkBKNs8",
      "include_colab_link": true
    },
    "kernelspec": {
      "name": "python3",
      "display_name": "Python 3"
    },
    "language_info": {
      "name": "python"
    }
  },
  "cells": [
    {
      "cell_type": "markdown",
      "metadata": {
        "id": "view-in-github",
        "colab_type": "text"
      },
      "source": [
        "<a href=\"https://colab.research.google.com/github/CintiaAguiar/user-age-calculation/blob/main/Projeto_VI_Logica_de_programacao.ipynb\" target=\"_parent\"><img src=\"https://colab.research.google.com/assets/colab-badge.svg\" alt=\"Open In Colab\"/></a>"
      ]
    },
    {
      "cell_type": "markdown",
      "source": [
        "**Desafio Projeto VI: Lógica de Programação**\n",
        "\n",
        "Desenvolva um programa que recebe do usuário nome completo e ano de nascimento que seja entre 1922 e 2021.\n",
        "A partir dessas informações, o sistema mostrará o nome do usuário e a idade que completou, ou completará, no ano atual (2022).\n",
        "\n",
        "Caso o usuário não digite um número ou apareça um inválido no campo do ano, o sistema informará o erro e continuará perguntando até que um valor correto seja preenchido."
      ],
      "metadata": {
        "id": "FG6-gmKpAPbm"
      }
    },
    {
      "cell_type": "code",
      "source": [
        "def obter_dados_usuario():\n",
        "    while True:\n",
        "        try:\n",
        "            nome_completo = input(\"Digite seu nome completo: \")\n",
        "            ano_nascimento = int(input(\"Digite seu ano de nascimento (entre 1922 e 2021): \"))\n",
        "\n",
        "            if ano_nascimento < 1922 or ano_nascimento > 2021:\n",
        "                raise ValueError(\"Ano de nascimento fora do intervalo permitido.\")\n",
        "\n",
        "            idade = 2022 - ano_nascimento\n",
        "            print(f\"{nome_completo}, você completou ou completará {idade} anos em 2022.\")\n",
        "            break\n",
        "        except ValueError as e:\n",
        "            print(f\"Erro: {e}. Por favor, insira um ano válido.\")\n",
        "\n",
        "# Executar o programa\n",
        "obter_dados_usuario()"
      ],
      "metadata": {
        "colab": {
          "base_uri": "https://localhost:8080/"
        },
        "id": "DgK3PTswAPst",
        "outputId": "f6b0c385-abee-4534-8453-7fd5194cb38f"
      },
      "execution_count": 1,
      "outputs": [
        {
          "output_type": "stream",
          "name": "stdout",
          "text": [
            "Digite seu nome completo: Cintia Aguiar\n",
            "Digite seu ano de nascimento (entre 1922 e 2021): 1989\n",
            "Cintia Aguiar, você completou ou completará 33 anos em 2022.\n"
          ]
        }
      ]
    }
  ]
}